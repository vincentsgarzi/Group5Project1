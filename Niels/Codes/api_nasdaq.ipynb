{
 "cells": [
  {
   "cell_type": "code",
   "execution_count": 1,
   "id": "2d3347ba-45e4-4de4-99aa-85f0d0ec33a8",
   "metadata": {
    "tags": []
   },
   "outputs": [],
   "source": [
    "# Import the required libraries and dependencies\n",
    "import pandas as pd\n",
    "import os\n",
    "from dotenv import load_dotenv\n",
    "import requests\n",
    "import json"
   ]
  },
  {
   "cell_type": "code",
   "execution_count": 2,
   "id": "27bcee37-c651-436e-8dd4-28eba6ec4cf9",
   "metadata": {},
   "outputs": [
    {
     "data": {
      "text/plain": [
       "True"
      ]
     },
     "execution_count": 2,
     "metadata": {},
     "output_type": "execute_result"
    }
   ],
   "source": [
    "# Load .env environment variables\n",
    "load_dotenv()"
   ]
  },
  {
   "cell_type": "code",
   "execution_count": 3,
   "id": "914017d6-204e-460e-a279-c03db61e2adc",
   "metadata": {},
   "outputs": [
    {
     "data": {
      "text/plain": [
       "str"
      ]
     },
     "execution_count": 3,
     "metadata": {},
     "output_type": "execute_result"
    }
   ],
   "source": [
    "# Retrieve the API key from the environment variable and store as Python variable\n",
    "nasdaq_api_key = os.getenv('NASDAQ_API_KEY')\n",
    "type(nasdaq_api_key)"
   ]
  },
  {
   "cell_type": "code",
   "execution_count": 10,
   "id": "7db36e18-4e21-40b6-814a-434a330ddeb7",
   "metadata": {},
   "outputs": [
    {
     "name": "stdout",
     "output_type": "stream",
     "text": [
      "{\n",
      "    \"dataset\": {\n",
      "        \"collapse\": null,\n",
      "        \"column_index\": null,\n",
      "        \"column_names\": [\n",
      "            \"Date\",\n",
      "            \"Value\"\n",
      "        ],\n",
      "        \"data\": [\n",
      "            [\n",
      "                \"2022-10-31\",\n",
      "                6.093809523809524\n",
      "            ],\n",
      "            [\n",
      "                \"2022-09-30\",\n",
      "                7.834999999999999\n",
      "            ],\n",
      "            [\n",
      "                \"2022-08-31\",\n",
      "                8.777391304347828\n",
      "            ],\n",
      "            [\n",
      "                \"2022-07-31\",\n",
      "                7.109047619047619\n",
      "            ],\n",
      "            [\n",
      "                \"2022-06-30\",\n",
      "                7.5709090909090895\n",
      "            ],\n",
      "            [\n",
      "                \"2022-05-31\",\n",
      "                8.160000000000002\n",
      "            ],\n",
      "            [\n",
      "                \"2022-04-30\",\n",
      "                6.744761904761906\n",
      "            ],\n",
      "            [\n",
      "                \"2022-03-31\",\n",
      "                4.971304347826087\n",
      "            ],\n",
      "            [\n",
      "                \"2022-02-28\",\n",
      "                4.475\n",
      "            ],\n",
      "            [\n",
      "                \"2022-01-31\",\n",
      "                4.233333333333333\n",
      "            ]\n",
      "        ],\n",
      "        \"database_code\": \"ODA\",\n",
      "        \"database_id\": 4443,\n",
      "        \"dataset_code\": \"PNGASUS_USD\",\n",
      "        \"description\": \"Natural Gas; Natural Gas spot price at the Henry Hub terminal in Louisiana; US$ per Million Metric British Thermal Unit<br><br>Units:  US$ per Million Metric British Thermal Unit\",\n",
      "        \"end_date\": \"2022-10-31\",\n",
      "        \"frequency\": \"monthly\",\n",
      "        \"id\": 9665160,\n",
      "        \"limit\": 10,\n",
      "        \"name\": \"Natural Gas; Natural Gas spot price at the Henry Hub terminal in Louisiana; US$ per Million Metric British Thermal Unit\",\n",
      "        \"newest_available_date\": \"2022-10-31\",\n",
      "        \"oldest_available_date\": \"1991-01-31\",\n",
      "        \"order\": null,\n",
      "        \"premium\": false,\n",
      "        \"refreshed_at\": \"2022-12-24T01:00:30.182Z\",\n",
      "        \"start_date\": \"1991-01-31\",\n",
      "        \"transform\": null,\n",
      "        \"type\": \"Time Series\"\n",
      "    }\n",
      "}\n"
     ]
    }
   ],
   "source": [
    "# Define the base request URL for NASDAQ\n",
    "# Note the `limit=10` and api_key=` parameters.\n",
    "#request_url = \"https://data.nasdaq.com/api/v3/datasets/WIKI/CL:NMX.json?limit=10&api_key=\"\n",
    "\n",
    "request_url = \"https://www.quandl.com/api/v3/datasets/ODA/PNGASUS_USD.json?limit=10&api_key=\"\n",
    "\n",
    "# Concatenate request_url and nasdaq_api_key and store as a new variable\n",
    "nasdaq_request_url = request_url + nasdaq_api_key\n",
    "\n",
    "# Execute the API call to Nasdaq using requests.get\n",
    "response = requests.get(nasdaq_request_url).json()\n",
    "\n",
    "# Display response data using json.dumps\n",
    "print(json.dumps(response, indent=4, sort_keys=True))"
   ]
  },
  {
   "cell_type": "code",
   "execution_count": 10,
   "id": "53b5dc03-71b7-4178-b41c-bff8f751d578",
   "metadata": {},
   "outputs": [
    {
     "data": {
      "text/plain": [
       "94.94"
      ]
     },
     "execution_count": 10,
     "metadata": {},
     "output_type": "execute_result"
    }
   ],
   "source": [
    "open_2018_03_27 = response[\"dataset\"][\"data\"][0][1]\n",
    "open_2018_03_27"
   ]
  },
  {
   "cell_type": "code",
   "execution_count": null,
   "id": "166dc0d1-ffff-4146-a9e0-a20eae1573c2",
   "metadata": {},
   "outputs": [],
   "source": []
  }
 ],
 "metadata": {
  "kernelspec": {
   "display_name": "Python 3 (ipykernel)",
   "language": "python",
   "name": "python3"
  },
  "language_info": {
   "codemirror_mode": {
    "name": "ipython",
    "version": 3
   },
   "file_extension": ".py",
   "mimetype": "text/x-python",
   "name": "python",
   "nbconvert_exporter": "python",
   "pygments_lexer": "ipython3",
   "version": "3.9.15"
  }
 },
 "nbformat": 4,
 "nbformat_minor": 5
}
