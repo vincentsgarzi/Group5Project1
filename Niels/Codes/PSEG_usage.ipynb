{
 "cells": [
  {
   "cell_type": "code",
   "execution_count": 31,
   "id": "74225985-01d9-421f-ac67-89221ed6b716",
   "metadata": {},
   "outputs": [],
   "source": [
    "# Import the required libraries and dependencies\n",
    "import pandas as pd\n",
    "import hvplot.pandas\n",
    "from pathlib import Path\n",
    "import datetime\n",
    "import os\n",
    "import time"
   ]
  },
  {
   "cell_type": "code",
   "execution_count": 32,
   "id": "4bc3decc-f990-4d74-87c2-b9f87533ed3b",
   "metadata": {},
   "outputs": [
    {
     "data": {
      "text/html": [
       "<div>\n",
       "<style scoped>\n",
       "    .dataframe tbody tr th:only-of-type {\n",
       "        vertical-align: middle;\n",
       "    }\n",
       "\n",
       "    .dataframe tbody tr th {\n",
       "        vertical-align: top;\n",
       "    }\n",
       "\n",
       "    .dataframe thead th {\n",
       "        text-align: right;\n",
       "    }\n",
       "</style>\n",
       "<table border=\"1\" class=\"dataframe\">\n",
       "  <thead>\n",
       "    <tr style=\"text-align: right;\">\n",
       "      <th></th>\n",
       "      <th>Start Date</th>\n",
       "      <th>Meter</th>\n",
       "      <th>kWh</th>\n",
       "    </tr>\n",
       "  </thead>\n",
       "  <tbody>\n",
       "    <tr>\n",
       "      <th>36599</th>\n",
       "      <td>1/12/2023 10:15:00 AM</td>\n",
       "      <td>Meter #98271584</td>\n",
       "      <td>0.36</td>\n",
       "    </tr>\n",
       "    <tr>\n",
       "      <th>36600</th>\n",
       "      <td>1/12/2023 10:30:00 AM</td>\n",
       "      <td>Meter #98271584g</td>\n",
       "      <td>0.00</td>\n",
       "    </tr>\n",
       "    <tr>\n",
       "      <th>36601</th>\n",
       "      <td>1/12/2023 10:30:00 AM</td>\n",
       "      <td>Meter #98271584</td>\n",
       "      <td>0.35</td>\n",
       "    </tr>\n",
       "    <tr>\n",
       "      <th>36602</th>\n",
       "      <td>1/12/2023 10:45:00 AM</td>\n",
       "      <td>Meter #98271584g</td>\n",
       "      <td>0.00</td>\n",
       "    </tr>\n",
       "    <tr>\n",
       "      <th>36603</th>\n",
       "      <td>1/12/2023 10:45:00 AM</td>\n",
       "      <td>Meter #98271584</td>\n",
       "      <td>0.33</td>\n",
       "    </tr>\n",
       "  </tbody>\n",
       "</table>\n",
       "</div>"
      ],
      "text/plain": [
       "                  Start Date             Meter   kWh\n",
       "36599  1/12/2023 10:15:00 AM   Meter #98271584  0.36\n",
       "36600  1/12/2023 10:30:00 AM  Meter #98271584g  0.00\n",
       "36601  1/12/2023 10:30:00 AM   Meter #98271584  0.35\n",
       "36602  1/12/2023 10:45:00 AM  Meter #98271584g  0.00\n",
       "36603  1/12/2023 10:45:00 AM   Meter #98271584  0.33"
      ]
     },
     "execution_count": 32,
     "metadata": {},
     "output_type": "execute_result"
    }
   ],
   "source": [
    "# Read subscriber_numbers.csv file into a Pandas DataFrame\n",
    "energy_data = pd.read_csv(Path(\n",
    "    './/Resources/PSEG_LI_2022_Usage_data.csv'),\n",
    "    parse_dates=True, \n",
    "    infer_datetime_format=True\n",
    ")\n",
    "\n",
    "\n",
    "# Review the DataFrame\n",
    "#energy_data.Timestamp(tz='America/New_York').isoformat()\n",
    "\n",
    "energy_data.tail()"
   ]
  },
  {
   "cell_type": "code",
   "execution_count": 33,
   "id": "2bb75d9c-d0c0-4169-a0ad-41a3da27a7f6",
   "metadata": {},
   "outputs": [],
   "source": [
    "# make copy of data\n",
    "energy_data_2022 = energy_data.copy()"
   ]
  },
  {
   "cell_type": "code",
   "execution_count": 36,
   "id": "4dbedafc-e582-4e2c-8389-cdd25825cc13",
   "metadata": {},
   "outputs": [
    {
     "name": "stdout",
     "output_type": "stream",
     "text": [
      "the time of execution of above program is:  31.932592391967773 ms\n"
     ]
    }
   ],
   "source": [
    "#record start time\n",
    "start_0 = time.time()\n",
    "# Change start date from object to datetime64[ns]\n",
    "energy_data_2022['Start Date'] = pd.to_datetime(energy_data_2022['Start Date'])\n",
    "#record end time\n",
    "end_0 = time.time()\n",
    "\n",
    "print(\"the time of execution of above program is: \", (end_0-start_0) * 10**3,\"ms\")"
   ]
  },
  {
   "cell_type": "code",
   "execution_count": 35,
   "id": "61e343bb-e582-4af6-99be-9f95d7f7ff8c",
   "metadata": {},
   "outputs": [
    {
     "name": "stdout",
     "output_type": "stream",
     "text": [
      "the time of execution of above program is:  190.3095245361328 ms\n"
     ]
    }
   ],
   "source": [
    "#record start time\n",
    "start_1 = time.time()\n",
    "\n",
    "#create 2 new columns seperating start date column into date and time\n",
    "energy_data_2022['date'] = pd.to_datetime(energy_data_2022['Start Date']).dt.date\n",
    "# Change start date from object to datetime64[ns]\n",
    "energy_data_2022['date'] = pd.to_datetime(energy_data_2022['date'])\n",
    "\n",
    "#create 2 new columns seperating start date column into date and time\n",
    "energy_data_2022['time'] = pd.to_datetime(energy_data_2022['Start Date']).dt.time\n",
    "\n",
    "#record end time\n",
    "end_1 = time.time()\n",
    "\n",
    "print(\"the time of execution of above program is: \", (end_1-start_1) * 10**3,\"ms\")"
   ]
  },
  {
   "cell_type": "code",
   "execution_count": null,
   "id": "abd628d9-2f05-4868-843e-21725180367e",
   "metadata": {},
   "outputs": [],
   "source": [
    "energy_data_2022.dtypes"
   ]
  },
  {
   "cell_type": "code",
   "execution_count": 37,
   "id": "f7f767ba-e410-432e-a6bc-907151b131a5",
   "metadata": {},
   "outputs": [
    {
     "ename": "SyntaxError",
     "evalue": "invalid syntax (482896763.py, line 2)",
     "output_type": "error",
     "traceback": [
      "\u001b[1;36m  Cell \u001b[1;32mIn[37], line 2\u001b[1;36m\u001b[0m\n\u001b[1;33m    def change_date_time(row)\u001b[0m\n\u001b[1;37m                                 ^\u001b[0m\n\u001b[1;31mSyntaxError\u001b[0m\u001b[1;31m:\u001b[0m invalid syntax\n"
     ]
    }
   ],
   "source": [
    "# Change start date from object to datetime64[ns]\n",
    "def change_date_time(row)    \n",
    "    energy_data_2022['Start Date'] = pd.to_datetime(energy_data_2022['Start Date'])\n",
    "    return energy_data_2022['Start Date']\n",
    "    \n",
    "#create 2 new columns seperating start date column into date and time\n",
    "def devide_date_date(row):\n",
    "    energy_data_2022['date'] = pd.to_datetime(energy_data_2022['Start Date']).dt.date\n",
    "    # Change start date from object to datetime64[ns]\n",
    "    energy_data_2022['date'] = pd.to_datetime(energy_data_2022['date'])\n",
    "\n",
    "#create 2 new columns seperating start date column into date and time\n",
    "def devide_date_time(row):\n",
    "    energy_data_2022['time'] = pd.to_datetime(energy_data_2022['Start Date']).dt.time"
   ]
  },
  {
   "cell_type": "code",
   "execution_count": 4,
   "id": "4881075b-f2c8-4817-8400-e149af0de09e",
   "metadata": {},
   "outputs": [
    {
     "data": {
      "text/html": [
       "<div>\n",
       "<style scoped>\n",
       "    .dataframe tbody tr th:only-of-type {\n",
       "        vertical-align: middle;\n",
       "    }\n",
       "\n",
       "    .dataframe tbody tr th {\n",
       "        vertical-align: top;\n",
       "    }\n",
       "\n",
       "    .dataframe thead th {\n",
       "        text-align: right;\n",
       "    }\n",
       "</style>\n",
       "<table border=\"1\" class=\"dataframe\">\n",
       "  <thead>\n",
       "    <tr style=\"text-align: right;\">\n",
       "      <th></th>\n",
       "      <th>Start Date</th>\n",
       "      <th>Meter</th>\n",
       "      <th>kWh</th>\n",
       "      <th>time</th>\n",
       "    </tr>\n",
       "    <tr>\n",
       "      <th>date</th>\n",
       "      <th></th>\n",
       "      <th></th>\n",
       "      <th></th>\n",
       "      <th></th>\n",
       "    </tr>\n",
       "  </thead>\n",
       "  <tbody>\n",
       "    <tr>\n",
       "      <th>2022-01-01</th>\n",
       "      <td>2022-01-01 00:00:00</td>\n",
       "      <td>Meter #98271584</td>\n",
       "      <td>0.46</td>\n",
       "      <td>00:00:00</td>\n",
       "    </tr>\n",
       "    <tr>\n",
       "      <th>2022-01-01</th>\n",
       "      <td>2022-01-01 00:15:00</td>\n",
       "      <td>Meter #98271584</td>\n",
       "      <td>0.51</td>\n",
       "      <td>00:15:00</td>\n",
       "    </tr>\n",
       "    <tr>\n",
       "      <th>2022-01-01</th>\n",
       "      <td>2022-01-01 00:30:00</td>\n",
       "      <td>Meter #98271584</td>\n",
       "      <td>0.52</td>\n",
       "      <td>00:30:00</td>\n",
       "    </tr>\n",
       "    <tr>\n",
       "      <th>2022-01-01</th>\n",
       "      <td>2022-01-01 00:45:00</td>\n",
       "      <td>Meter #98271584</td>\n",
       "      <td>0.49</td>\n",
       "      <td>00:45:00</td>\n",
       "    </tr>\n",
       "    <tr>\n",
       "      <th>2022-01-01</th>\n",
       "      <td>2022-01-01 01:00:00</td>\n",
       "      <td>Meter #98271584</td>\n",
       "      <td>0.45</td>\n",
       "      <td>01:00:00</td>\n",
       "    </tr>\n",
       "    <tr>\n",
       "      <th>...</th>\n",
       "      <td>...</td>\n",
       "      <td>...</td>\n",
       "      <td>...</td>\n",
       "      <td>...</td>\n",
       "    </tr>\n",
       "    <tr>\n",
       "      <th>2023-01-12</th>\n",
       "      <td>2023-01-12 10:15:00</td>\n",
       "      <td>Meter #98271584</td>\n",
       "      <td>0.36</td>\n",
       "      <td>10:15:00</td>\n",
       "    </tr>\n",
       "    <tr>\n",
       "      <th>2023-01-12</th>\n",
       "      <td>2023-01-12 10:30:00</td>\n",
       "      <td>Meter #98271584g</td>\n",
       "      <td>0.00</td>\n",
       "      <td>10:30:00</td>\n",
       "    </tr>\n",
       "    <tr>\n",
       "      <th>2023-01-12</th>\n",
       "      <td>2023-01-12 10:30:00</td>\n",
       "      <td>Meter #98271584</td>\n",
       "      <td>0.35</td>\n",
       "      <td>10:30:00</td>\n",
       "    </tr>\n",
       "    <tr>\n",
       "      <th>2023-01-12</th>\n",
       "      <td>2023-01-12 10:45:00</td>\n",
       "      <td>Meter #98271584g</td>\n",
       "      <td>0.00</td>\n",
       "      <td>10:45:00</td>\n",
       "    </tr>\n",
       "    <tr>\n",
       "      <th>2023-01-12</th>\n",
       "      <td>2023-01-12 10:45:00</td>\n",
       "      <td>Meter #98271584</td>\n",
       "      <td>0.33</td>\n",
       "      <td>10:45:00</td>\n",
       "    </tr>\n",
       "  </tbody>\n",
       "</table>\n",
       "<p>36604 rows × 4 columns</p>\n",
       "</div>"
      ],
      "text/plain": [
       "                    Start Date             Meter   kWh      time\n",
       "date                                                            \n",
       "2022-01-01 2022-01-01 00:00:00   Meter #98271584  0.46  00:00:00\n",
       "2022-01-01 2022-01-01 00:15:00   Meter #98271584  0.51  00:15:00\n",
       "2022-01-01 2022-01-01 00:30:00   Meter #98271584  0.52  00:30:00\n",
       "2022-01-01 2022-01-01 00:45:00   Meter #98271584  0.49  00:45:00\n",
       "2022-01-01 2022-01-01 01:00:00   Meter #98271584  0.45  01:00:00\n",
       "...                        ...               ...   ...       ...\n",
       "2023-01-12 2023-01-12 10:15:00   Meter #98271584  0.36  10:15:00\n",
       "2023-01-12 2023-01-12 10:30:00  Meter #98271584g  0.00  10:30:00\n",
       "2023-01-12 2023-01-12 10:30:00   Meter #98271584  0.35  10:30:00\n",
       "2023-01-12 2023-01-12 10:45:00  Meter #98271584g  0.00  10:45:00\n",
       "2023-01-12 2023-01-12 10:45:00   Meter #98271584  0.33  10:45:00\n",
       "\n",
       "[36604 rows x 4 columns]"
      ]
     },
     "metadata": {},
     "output_type": "display_data"
    }
   ],
   "source": [
    "#Reset index to 'date'\n",
    "energy_data_2022 = energy_data_2022.set_index('date')\n",
    "display(energy_data_2022.head())"
   ]
  },
  {
   "cell_type": "code",
   "execution_count": 5,
   "id": "f99cea9e-8080-4c63-8262-93dd18762307",
   "metadata": {
    "tags": []
   },
   "outputs": [
    {
     "data": {
      "text/html": [
       "<div>\n",
       "<style scoped>\n",
       "    .dataframe tbody tr th:only-of-type {\n",
       "        vertical-align: middle;\n",
       "    }\n",
       "\n",
       "    .dataframe tbody tr th {\n",
       "        vertical-align: top;\n",
       "    }\n",
       "\n",
       "    .dataframe thead th {\n",
       "        text-align: right;\n",
       "    }\n",
       "</style>\n",
       "<table border=\"1\" class=\"dataframe\">\n",
       "  <thead>\n",
       "    <tr style=\"text-align: right;\">\n",
       "      <th></th>\n",
       "      <th>Start Date</th>\n",
       "      <th>Meter</th>\n",
       "      <th>kWh</th>\n",
       "      <th>time</th>\n",
       "    </tr>\n",
       "    <tr>\n",
       "      <th>date</th>\n",
       "      <th></th>\n",
       "      <th></th>\n",
       "      <th></th>\n",
       "      <th></th>\n",
       "    </tr>\n",
       "  </thead>\n",
       "  <tbody>\n",
       "    <tr>\n",
       "      <th>2022-12-31</th>\n",
       "      <td>2022-12-31 22:45:00</td>\n",
       "      <td>Meter #98271584</td>\n",
       "      <td>0.41</td>\n",
       "      <td>22:45:00</td>\n",
       "    </tr>\n",
       "    <tr>\n",
       "      <th>2022-12-31</th>\n",
       "      <td>2022-12-31 23:00:00</td>\n",
       "      <td>Meter #98271584</td>\n",
       "      <td>0.37</td>\n",
       "      <td>23:00:00</td>\n",
       "    </tr>\n",
       "    <tr>\n",
       "      <th>2022-12-31</th>\n",
       "      <td>2022-12-31 23:15:00</td>\n",
       "      <td>Meter #98271584</td>\n",
       "      <td>0.37</td>\n",
       "      <td>23:15:00</td>\n",
       "    </tr>\n",
       "    <tr>\n",
       "      <th>2022-12-31</th>\n",
       "      <td>2022-12-31 23:30:00</td>\n",
       "      <td>Meter #98271584</td>\n",
       "      <td>0.30</td>\n",
       "      <td>23:30:00</td>\n",
       "    </tr>\n",
       "    <tr>\n",
       "      <th>2022-12-31</th>\n",
       "      <td>2022-12-31 23:45:00</td>\n",
       "      <td>Meter #98271584</td>\n",
       "      <td>0.38</td>\n",
       "      <td>23:45:00</td>\n",
       "    </tr>\n",
       "  </tbody>\n",
       "</table>\n",
       "</div>"
      ],
      "text/plain": [
       "                    Start Date            Meter   kWh      time\n",
       "date                                                           \n",
       "2022-12-31 2022-12-31 22:45:00  Meter #98271584  0.41  22:45:00\n",
       "2022-12-31 2022-12-31 23:00:00  Meter #98271584  0.37  23:00:00\n",
       "2022-12-31 2022-12-31 23:15:00  Meter #98271584  0.37  23:15:00\n",
       "2022-12-31 2022-12-31 23:30:00  Meter #98271584  0.30  23:30:00\n",
       "2022-12-31 2022-12-31 23:45:00  Meter #98271584  0.38  23:45:00"
      ]
     },
     "execution_count": 5,
     "metadata": {},
     "output_type": "execute_result"
    }
   ],
   "source": [
    "# select dates in 2022\n",
    "start_date_data = pd.to_datetime('2022-01-01').date()\n",
    "end_date_data = pd.to_datetime('2022-12-31').date()\n",
    "\n",
    "#select only data in 2022\n",
    "energy_data_2022 = energy_data_2022.loc[start_date_data:end_date_data]\n",
    "\n",
    "# show first five rows of df\n",
    "energy_data_2022.tail()"
   ]
  },
  {
   "cell_type": "code",
   "execution_count": 13,
   "id": "ae29e91f-3731-4530-8ecc-e140f0ca589e",
   "metadata": {},
   "outputs": [
    {
     "name": "stderr",
     "output_type": "stream",
     "text": [
      "C:\\Users\\niels\\AppData\\Local\\Temp\\ipykernel_4480\\2694255572.py:2: FutureWarning: The default value of numeric_only in DataFrameGroupBy.sum is deprecated. In a future version, numeric_only will default to False. Either specify numeric_only or select only columns which should be valid for the function.\n",
      "  energy_line = energy_data_2022.groupby('date').sum()\n"
     ]
    },
    {
     "data": {
      "text/html": [
       "<div>\n",
       "<style scoped>\n",
       "    .dataframe tbody tr th:only-of-type {\n",
       "        vertical-align: middle;\n",
       "    }\n",
       "\n",
       "    .dataframe tbody tr th {\n",
       "        vertical-align: top;\n",
       "    }\n",
       "\n",
       "    .dataframe thead th {\n",
       "        text-align: right;\n",
       "    }\n",
       "</style>\n",
       "<table border=\"1\" class=\"dataframe\">\n",
       "  <thead>\n",
       "    <tr style=\"text-align: right;\">\n",
       "      <th></th>\n",
       "      <th>kWh</th>\n",
       "    </tr>\n",
       "    <tr>\n",
       "      <th>date</th>\n",
       "      <th></th>\n",
       "    </tr>\n",
       "  </thead>\n",
       "  <tbody>\n",
       "    <tr>\n",
       "      <th>2022-01-01</th>\n",
       "      <td>61.84</td>\n",
       "    </tr>\n",
       "    <tr>\n",
       "      <th>2022-01-02</th>\n",
       "      <td>65.85</td>\n",
       "    </tr>\n",
       "    <tr>\n",
       "      <th>2022-01-03</th>\n",
       "      <td>64.29</td>\n",
       "    </tr>\n",
       "    <tr>\n",
       "      <th>2022-01-04</th>\n",
       "      <td>75.63</td>\n",
       "    </tr>\n",
       "    <tr>\n",
       "      <th>2022-01-05</th>\n",
       "      <td>66.01</td>\n",
       "    </tr>\n",
       "  </tbody>\n",
       "</table>\n",
       "</div>"
      ],
      "text/plain": [
       "              kWh\n",
       "date             \n",
       "2022-01-01  61.84\n",
       "2022-01-02  65.85\n",
       "2022-01-03  64.29\n",
       "2022-01-04  75.63\n",
       "2022-01-05  66.01"
      ]
     },
     "execution_count": 13,
     "metadata": {},
     "output_type": "execute_result"
    }
   ],
   "source": [
    "#group energy usage per data and sum\n",
    "energy_line = energy_data_2022.groupby('date').sum()\n"
   ]
  },
  {
   "cell_type": "code",
   "execution_count": 21,
   "id": "571d9576-419e-4516-9531-313645d99591",
   "metadata": {},
   "outputs": [],
   "source": [
    "#energy_line.pct_change().dropna()\n",
    "energy__daily_change = pd.DataFrame(energy_line)\n",
    "#energy_line.dtypes"
   ]
  },
  {
   "cell_type": "code",
   "execution_count": 22,
   "id": "ff3ace74-0948-4749-91b7-a9717e0bc2fb",
   "metadata": {},
   "outputs": [
    {
     "data": {
      "text/plain": [
       "<bound method DataFrame.dropna of                  kWh\n",
       "date                \n",
       "2022-01-01       NaN\n",
       "2022-01-02  0.064845\n",
       "2022-01-03 -0.023690\n",
       "2022-01-04  0.176388\n",
       "2022-01-05 -0.127198\n",
       "...              ...\n",
       "2022-12-27 -0.213644\n",
       "2022-12-28 -0.119928\n",
       "2022-12-29  0.046230\n",
       "2022-12-30 -0.229093\n",
       "2022-12-31 -0.185694\n",
       "\n",
       "[364 rows x 1 columns]>"
      ]
     },
     "execution_count": 22,
     "metadata": {},
     "output_type": "execute_result"
    }
   ],
   "source": [
    "energy__daily_change.pct_change().dropna"
   ]
  },
  {
   "cell_type": "code",
   "execution_count": 23,
   "id": "0665656f-84b9-4d2d-a3a7-1bfde899fe66",
   "metadata": {},
   "outputs": [
    {
     "data": {},
     "metadata": {},
     "output_type": "display_data"
    },
    {
     "data": {
      "application/vnd.holoviews_exec.v0+json": "",
      "text/html": [
       "<div id='1408'>\n",
       "  <div class=\"bk-root\" id=\"82d282b8-383a-4a85-a168-89c5aaba279d\" data-root-id=\"1408\"></div>\n",
       "</div>\n",
       "<script type=\"application/javascript\">(function(root) {\n",
       "  function embed_document(root) {\n",
       "    var docs_json = {\"2a8ce91a-684a-493a-af5a-a955d3b39953\":{\"defs\":[{\"extends\":null,\"module\":null,\"name\":\"ReactiveHTML1\",\"overrides\":[],\"properties\":[]},{\"extends\":null,\"module\":null,\"name\":\"FlexBox1\",\"overrides\":[],\"properties\":[{\"default\":\"flex-start\",\"kind\":null,\"name\":\"align_content\"},{\"default\":\"flex-start\",\"kind\":null,\"name\":\"align_items\"},{\"default\":\"row\",\"kind\":null,\"name\":\"flex_direction\"},{\"default\":\"wrap\",\"kind\":null,\"name\":\"flex_wrap\"},{\"default\":\"flex-start\",\"kind\":null,\"name\":\"justify_content\"}]},{\"extends\":null,\"module\":null,\"name\":\"GridStack1\",\"overrides\":[],\"properties\":[{\"default\":\"warn\",\"kind\":null,\"name\":\"mode\"},{\"default\":null,\"kind\":null,\"name\":\"ncols\"},{\"default\":null,\"kind\":null,\"name\":\"nrows\"},{\"default\":true,\"kind\":null,\"name\":\"allow_resize\"},{\"default\":true,\"kind\":null,\"name\":\"allow_drag\"},{\"default\":[],\"kind\":null,\"name\":\"state\"}]},{\"extends\":null,\"module\":null,\"name\":\"click1\",\"overrides\":[],\"properties\":[{\"default\":\"\",\"kind\":null,\"name\":\"terminal_output\"},{\"default\":\"\",\"kind\":null,\"name\":\"debug_name\"},{\"default\":0,\"kind\":null,\"name\":\"clears\"}]},{\"extends\":null,\"module\":null,\"name\":\"NotificationAreaBase1\",\"overrides\":[],\"properties\":[{\"default\":\"bottom-right\",\"kind\":null,\"name\":\"position\"},{\"default\":0,\"kind\":null,\"name\":\"_clear\"}]},{\"extends\":null,\"module\":null,\"name\":\"NotificationArea1\",\"overrides\":[],\"properties\":[{\"default\":[],\"kind\":null,\"name\":\"notifications\"},{\"default\":\"bottom-right\",\"kind\":null,\"name\":\"position\"},{\"default\":0,\"kind\":null,\"name\":\"_clear\"},{\"default\":[{\"background\":\"#ffc107\",\"icon\":{\"className\":\"fas fa-exclamation-triangle\",\"color\":\"white\",\"tagName\":\"i\"},\"type\":\"warning\"},{\"background\":\"#007bff\",\"icon\":{\"className\":\"fas fa-info-circle\",\"color\":\"white\",\"tagName\":\"i\"},\"type\":\"info\"}],\"kind\":null,\"name\":\"types\"}]},{\"extends\":null,\"module\":null,\"name\":\"Notification\",\"overrides\":[],\"properties\":[{\"default\":null,\"kind\":null,\"name\":\"background\"},{\"default\":3000,\"kind\":null,\"name\":\"duration\"},{\"default\":null,\"kind\":null,\"name\":\"icon\"},{\"default\":\"\",\"kind\":null,\"name\":\"message\"},{\"default\":null,\"kind\":null,\"name\":\"notification_type\"},{\"default\":false,\"kind\":null,\"name\":\"_destroyed\"}]},{\"extends\":null,\"module\":null,\"name\":\"TemplateActions1\",\"overrides\":[],\"properties\":[{\"default\":0,\"kind\":null,\"name\":\"open_modal\"},{\"default\":0,\"kind\":null,\"name\":\"close_modal\"}]},{\"extends\":null,\"module\":null,\"name\":\"MaterialTemplateActions1\",\"overrides\":[],\"properties\":[{\"default\":0,\"kind\":null,\"name\":\"open_modal\"},{\"default\":0,\"kind\":null,\"name\":\"close_modal\"}]}],\"roots\":{\"references\":[{\"attributes\":{\"axis_label\":\"\",\"coordinates\":null,\"formatter\":{\"id\":\"1456\"},\"group\":null,\"major_label_policy\":{\"id\":\"1457\"},\"ticker\":{\"id\":\"1427\"}},\"id\":\"1426\",\"type\":\"LinearAxis\"},{\"attributes\":{\"coordinates\":null,\"data_source\":{\"id\":\"1443\"},\"glyph\":{\"id\":\"1446\"},\"group\":null,\"hover_glyph\":null,\"muted_glyph\":{\"id\":\"1448\"},\"nonselection_glyph\":{\"id\":\"1447\"},\"selection_glyph\":{\"id\":\"1451\"},\"view\":{\"id\":\"1450\"}},\"id\":\"1449\",\"type\":\"GlyphRenderer\"},{\"attributes\":{\"axis\":{\"id\":\"1426\"},\"coordinates\":null,\"dimension\":1,\"grid_line_color\":null,\"group\":null,\"ticker\":null},\"id\":\"1429\",\"type\":\"Grid\"},{\"attributes\":{},\"id\":\"1420\",\"type\":\"LinearScale\"},{\"attributes\":{},\"id\":\"1427\",\"type\":\"BasicTicker\"},{\"attributes\":{\"bottom\":{\"value\":0},\"fill_alpha\":{\"value\":0.1},\"fill_color\":{\"value\":\"#30a2da\"},\"hatch_alpha\":{\"value\":0.1},\"hatch_color\":{\"value\":\"#30a2da\"},\"left\":{\"field\":\"left\"},\"line_alpha\":{\"value\":0.1},\"right\":{\"field\":\"right\"},\"top\":{\"field\":\"top\"}},\"id\":\"1447\",\"type\":\"Quad\"},{\"attributes\":{\"data\":{\"kWh\":{\"__ndarray__\":\"jGzn+6l5QkBkO99Pje9EQD4K16NwZUdAFtnO91PbSUDwp8ZLN1FMQMh2vp8ax05A0CLb+X6eUEA+CtejcNlRQKrx0k1iFFNAFtnO91NPVECCwMqhRYpVQPCnxks3xVZAXI/C9SgAWEDIdr6fGjtZQDVeukkMdlpAokW28/2wW0AOLbKd7+tcQHoUrkfhJl5A5/up8dJhX0Cq8dJNYk5gQA==\",\"dtype\":\"float64\",\"order\":\"little\",\"shape\":[20]},\"kWh_count\":[5,8,47,67,53,49,35,33,19,10,9,13,7,3,1,1,1,0,1,2],\"left\":{\"__ndarray__\":\"H4XrUbg+QUD4U+Olm7RDQNEi2/l+KkZAqvHSTWKgSECDwMqhRRZLQFyPwvUojE1AGi/dJAYBUECHFtnO9ztRQPT91HjpdlJAYOXQItuxU0DMzMzMzOxUQDm0yHa+J1ZAppvEILBiV0ASg8DKoZ1YQH5qvHST2FlA7FG4HoUTW0BYObTIdk5cQMQgsHJoiV1AMAisHFrEXkCe76fGS/9fQA==\",\"dtype\":\"float64\",\"order\":\"little\",\"shape\":[20]},\"right\":{\"__ndarray__\":\"+FPjpZu0Q0DRItv5fipGQKrx0k1ioEhAg8DKoUUWS0Bcj8L1KIxNQBov3SQGAVBAhxbZzvc7UUD0/dR46XZSQGDl0CLbsVNAzMzMzMzsVEA5tMh2vidWQKabxCCwYldAEoPAyqGdWEB+arx0k9hZQOxRuB6FE1tAWDm0yHZOXEDEILByaIldQDAIrBxaxF5Anu+nxkv/X0CF61G4Hp1gQA==\",\"dtype\":\"float64\",\"order\":\"little\",\"shape\":[20]},\"top\":[5,8,47,67,53,49,35,33,19,10,9,13,7,3,1,1,1,0,1,2]},\"selected\":{\"id\":\"1444\"},\"selection_policy\":{\"id\":\"1465\"}},\"id\":\"1443\",\"type\":\"ColumnDataSource\"},{\"attributes\":{\"bottom\":{\"value\":0},\"fill_alpha\":{\"value\":0.2},\"fill_color\":{\"value\":\"#30a2da\"},\"hatch_alpha\":{\"value\":0.2},\"hatch_color\":{\"value\":\"#30a2da\"},\"left\":{\"field\":\"left\"},\"line_alpha\":{\"value\":0.2},\"right\":{\"field\":\"right\"},\"top\":{\"field\":\"top\"}},\"id\":\"1448\",\"type\":\"Quad\"},{\"attributes\":{},\"id\":\"1418\",\"type\":\"LinearScale\"},{\"attributes\":{},\"id\":\"1430\",\"type\":\"SaveTool\"},{\"attributes\":{\"end\":73.7,\"reset_end\":73.7,\"reset_start\":0.0,\"tags\":[[[\"kWh_count\",\"Count\",null]]]},\"id\":\"1411\",\"type\":\"Range1d\"},{\"attributes\":{\"bottom_units\":\"screen\",\"coordinates\":null,\"fill_alpha\":0.5,\"fill_color\":\"lightgrey\",\"group\":null,\"left_units\":\"screen\",\"level\":\"overlay\",\"line_alpha\":1.0,\"line_color\":\"black\",\"line_dash\":[4,4],\"line_width\":2,\"right_units\":\"screen\",\"syncable\":false,\"top_units\":\"screen\"},\"id\":\"1435\",\"type\":\"BoxAnnotation\"},{\"attributes\":{},\"id\":\"1431\",\"type\":\"PanTool\"},{\"attributes\":{},\"id\":\"1432\",\"type\":\"WheelZoomTool\"},{\"attributes\":{},\"id\":\"1453\",\"type\":\"BasicTickFormatter\"},{\"attributes\":{},\"id\":\"1457\",\"type\":\"AllLabels\"},{\"attributes\":{\"overlay\":{\"id\":\"1435\"}},\"id\":\"1433\",\"type\":\"BoxZoomTool\"},{\"attributes\":{\"bottom\":{\"value\":0},\"fill_color\":{\"value\":\"#30a2da\"},\"hatch_color\":{\"value\":\"#30a2da\"},\"left\":{\"field\":\"left\"},\"right\":{\"field\":\"right\"},\"top\":{\"field\":\"top\"}},\"id\":\"1446\",\"type\":\"Quad\"},{\"attributes\":{},\"id\":\"1434\",\"type\":\"ResetTool\"},{\"attributes\":{},\"id\":\"1465\",\"type\":\"UnionRenderers\"},{\"attributes\":{},\"id\":\"1444\",\"type\":\"Selection\"},{\"attributes\":{},\"id\":\"1454\",\"type\":\"AllLabels\"},{\"attributes\":{\"margin\":[5,5,5,5],\"name\":\"HSpacer01177\",\"sizing_mode\":\"stretch_width\"},\"id\":\"1468\",\"type\":\"Spacer\"},{\"attributes\":{\"margin\":[5,5,5,5],\"name\":\"HSpacer01176\",\"sizing_mode\":\"stretch_width\"},\"id\":\"1409\",\"type\":\"Spacer\"},{\"attributes\":{\"source\":{\"id\":\"1443\"}},\"id\":\"1450\",\"type\":\"CDSView\"},{\"attributes\":{\"bottom\":{\"value\":0},\"fill_alpha\":{\"value\":1.0},\"fill_color\":{\"value\":\"#30a2da\"},\"hatch_alpha\":{\"value\":1.0},\"hatch_color\":{\"value\":\"#30a2da\"},\"hatch_scale\":{\"value\":12.0},\"hatch_weight\":{\"value\":1.0},\"left\":{\"field\":\"left\"},\"line_alpha\":{\"value\":1.0},\"line_cap\":{\"value\":\"butt\"},\"line_color\":{\"value\":\"black\"},\"line_dash\":{\"value\":[]},\"line_dash_offset\":{\"value\":0},\"line_join\":{\"value\":\"bevel\"},\"line_width\":{\"value\":1},\"right\":{\"field\":\"right\"},\"top\":{\"field\":\"top\"}},\"id\":\"1451\",\"type\":\"Quad\"},{\"attributes\":{\"children\":[{\"id\":\"1409\"},{\"id\":\"1413\"},{\"id\":\"1468\"}],\"margin\":[0,0,0,0],\"name\":\"Row01172\",\"tags\":[\"embedded\"]},\"id\":\"1408\",\"type\":\"Row\"},{\"attributes\":{\"end\":137.128,\"reset_end\":137.128,\"reset_start\":30.272000000000002,\"start\":30.272000000000002,\"tags\":[[[\"kWh\",\"kWh\",null]]]},\"id\":\"1410\",\"type\":\"Range1d\"},{\"attributes\":{\"tools\":[{\"id\":\"1412\"},{\"id\":\"1430\"},{\"id\":\"1431\"},{\"id\":\"1432\"},{\"id\":\"1433\"},{\"id\":\"1434\"}]},\"id\":\"1436\",\"type\":\"Toolbar\"},{\"attributes\":{\"callback\":null,\"renderers\":[{\"id\":\"1449\"}],\"tags\":[\"hv_created\"],\"tooltips\":[[\"kWh\",\"@{kWh}\"],[\"Count\",\"@{kWh_count}\"]]},\"id\":\"1412\",\"type\":\"HoverTool\"},{\"attributes\":{\"coordinates\":null,\"group\":null,\"text_color\":\"black\",\"text_font_size\":\"12pt\"},\"id\":\"1414\",\"type\":\"Title\"},{\"attributes\":{\"below\":[{\"id\":\"1422\"}],\"center\":[{\"id\":\"1425\"},{\"id\":\"1429\"}],\"height\":300,\"left\":[{\"id\":\"1426\"}],\"margin\":[5,5,5,5],\"min_border_bottom\":10,\"min_border_left\":10,\"min_border_right\":10,\"min_border_top\":10,\"renderers\":[{\"id\":\"1449\"}],\"sizing_mode\":\"fixed\",\"title\":{\"id\":\"1414\"},\"toolbar\":{\"id\":\"1436\"},\"width\":700,\"x_range\":{\"id\":\"1410\"},\"x_scale\":{\"id\":\"1418\"},\"y_range\":{\"id\":\"1411\"},\"y_scale\":{\"id\":\"1420\"}},\"id\":\"1413\",\"subtype\":\"Figure\",\"type\":\"Plot\"},{\"attributes\":{\"axis_label\":\"kWh\",\"coordinates\":null,\"formatter\":{\"id\":\"1453\"},\"group\":null,\"major_label_policy\":{\"id\":\"1454\"},\"ticker\":{\"id\":\"1423\"}},\"id\":\"1422\",\"type\":\"LinearAxis\"},{\"attributes\":{},\"id\":\"1456\",\"type\":\"BasicTickFormatter\"},{\"attributes\":{},\"id\":\"1423\",\"type\":\"BasicTicker\"},{\"attributes\":{\"axis\":{\"id\":\"1422\"},\"coordinates\":null,\"grid_line_color\":null,\"group\":null,\"ticker\":null},\"id\":\"1425\",\"type\":\"Grid\"}],\"root_ids\":[\"1408\"]},\"title\":\"Bokeh Application\",\"version\":\"2.4.3\"}};\n",
       "    var render_items = [{\"docid\":\"2a8ce91a-684a-493a-af5a-a955d3b39953\",\"root_ids\":[\"1408\"],\"roots\":{\"1408\":\"82d282b8-383a-4a85-a168-89c5aaba279d\"}}];\n",
       "    root.Bokeh.embed.embed_items_notebook(docs_json, render_items);\n",
       "    for (const render_item of render_items) {\n",
       "      for (const root_id of render_item.root_ids) {\n",
       "\tconst id_el = document.getElementById(root_id)\n",
       "\tif (id_el.children.length && (id_el.children[0].className === 'bk-root')) {\n",
       "\t  const root_el = id_el.children[0]\n",
       "\t  root_el.id = root_el.id + '-rendered'\n",
       "\t}\n",
       "      }\n",
       "    }\n",
       "  }\n",
       "  if (root.Bokeh !== undefined && root.Bokeh.Panel !== undefined) {\n",
       "    embed_document(root);\n",
       "  } else {\n",
       "    var attempts = 0;\n",
       "    var timer = setInterval(function(root) {\n",
       "      if (root.Bokeh !== undefined && root.Bokeh.Panel !== undefined) {\n",
       "        clearInterval(timer);\n",
       "        embed_document(root);\n",
       "      } else if (document.readyState == \"complete\") {\n",
       "        attempts++;\n",
       "        if (attempts > 200) {\n",
       "          clearInterval(timer);\n",
       "          console.log(\"Bokeh: ERROR: Unable to run BokehJS code because BokehJS library is missing\");\n",
       "        }\n",
       "      }\n",
       "    }, 25, root)\n",
       "  }\n",
       "})(window);</script>"
      ],
      "text/plain": [
       ":Histogram   [kWh]   (kWh_count)"
      ]
     },
     "execution_count": 23,
     "metadata": {
      "application/vnd.holoviews_exec.v0+json": {
       "id": "1408"
      }
     },
     "output_type": "execute_result"
    }
   ],
   "source": [
    "energy__daily_change.hvplot.hist()"
   ]
  },
  {
   "cell_type": "code",
   "execution_count": 30,
   "id": "9fa0c801-90a4-432a-b317-aabd6fb2d6f5",
   "metadata": {},
   "outputs": [
    {
     "data": {},
     "metadata": {},
     "output_type": "display_data"
    },
    {
     "data": {
      "application/vnd.holoviews_exec.v0+json": "",
      "text/html": [
       "<div id='1910'>\n",
       "  <div class=\"bk-root\" id=\"819365de-7250-42a7-9ed6-1ee14e2f0f40\" data-root-id=\"1910\"></div>\n",
       "</div>\n",
       "<script type=\"application/javascript\">(function(root) {\n",
       "  function embed_document(root) {\n",
       "    var docs_json = {\"95c98a60-3dac-4a6e-a08c-1b6674888ab2\":{\"defs\":[{\"extends\":null,\"module\":null,\"name\":\"ReactiveHTML1\",\"overrides\":[],\"properties\":[]},{\"extends\":null,\"module\":null,\"name\":\"FlexBox1\",\"overrides\":[],\"properties\":[{\"default\":\"flex-start\",\"kind\":null,\"name\":\"align_content\"},{\"default\":\"flex-start\",\"kind\":null,\"name\":\"align_items\"},{\"default\":\"row\",\"kind\":null,\"name\":\"flex_direction\"},{\"default\":\"wrap\",\"kind\":null,\"name\":\"flex_wrap\"},{\"default\":\"flex-start\",\"kind\":null,\"name\":\"justify_content\"}]},{\"extends\":null,\"module\":null,\"name\":\"GridStack1\",\"overrides\":[],\"properties\":[{\"default\":\"warn\",\"kind\":null,\"name\":\"mode\"},{\"default\":null,\"kind\":null,\"name\":\"ncols\"},{\"default\":null,\"kind\":null,\"name\":\"nrows\"},{\"default\":true,\"kind\":null,\"name\":\"allow_resize\"},{\"default\":true,\"kind\":null,\"name\":\"allow_drag\"},{\"default\":[],\"kind\":null,\"name\":\"state\"}]},{\"extends\":null,\"module\":null,\"name\":\"click1\",\"overrides\":[],\"properties\":[{\"default\":\"\",\"kind\":null,\"name\":\"terminal_output\"},{\"default\":\"\",\"kind\":null,\"name\":\"debug_name\"},{\"default\":0,\"kind\":null,\"name\":\"clears\"}]},{\"extends\":null,\"module\":null,\"name\":\"NotificationAreaBase1\",\"overrides\":[],\"properties\":[{\"default\":\"bottom-right\",\"kind\":null,\"name\":\"position\"},{\"default\":0,\"kind\":null,\"name\":\"_clear\"}]},{\"extends\":null,\"module\":null,\"name\":\"NotificationArea1\",\"overrides\":[],\"properties\":[{\"default\":[],\"kind\":null,\"name\":\"notifications\"},{\"default\":\"bottom-right\",\"kind\":null,\"name\":\"position\"},{\"default\":0,\"kind\":null,\"name\":\"_clear\"},{\"default\":[{\"background\":\"#ffc107\",\"icon\":{\"className\":\"fas fa-exclamation-triangle\",\"color\":\"white\",\"tagName\":\"i\"},\"type\":\"warning\"},{\"background\":\"#007bff\",\"icon\":{\"className\":\"fas fa-info-circle\",\"color\":\"white\",\"tagName\":\"i\"},\"type\":\"info\"}],\"kind\":null,\"name\":\"types\"}]},{\"extends\":null,\"module\":null,\"name\":\"Notification\",\"overrides\":[],\"properties\":[{\"default\":null,\"kind\":null,\"name\":\"background\"},{\"default\":3000,\"kind\":null,\"name\":\"duration\"},{\"default\":null,\"kind\":null,\"name\":\"icon\"},{\"default\":\"\",\"kind\":null,\"name\":\"message\"},{\"default\":null,\"kind\":null,\"name\":\"notification_type\"},{\"default\":false,\"kind\":null,\"name\":\"_destroyed\"}]},{\"extends\":null,\"module\":null,\"name\":\"TemplateActions1\",\"overrides\":[],\"properties\":[{\"default\":0,\"kind\":null,\"name\":\"open_modal\"},{\"default\":0,\"kind\":null,\"name\":\"close_modal\"}]},{\"extends\":null,\"module\":null,\"name\":\"MaterialTemplateActions1\",\"overrides\":[],\"properties\":[{\"default\":0,\"kind\":null,\"name\":\"open_modal\"},{\"default\":0,\"kind\":null,\"name\":\"close_modal\"}]}],\"roots\":{\"references\":[{\"attributes\":{\"days\":[1,8,15,22]},\"id\":\"1987\",\"type\":\"DaysTicker\"},{\"attributes\":{\"line_alpha\":0.1,\"line_color\":\"#30a2da\",\"line_width\":2,\"x\":{\"field\":\"date\"},\"y\":{\"field\":\"kWh\"}},\"id\":\"1956\",\"type\":\"Line\"},{\"attributes\":{\"margin\":[5,5,5,5],\"name\":\"HSpacer01993\",\"sizing_mode\":\"stretch_width\"},\"id\":\"1911\",\"type\":\"Spacer\"},{\"attributes\":{},\"id\":\"1977\",\"type\":\"UnionRenderers\"},{\"attributes\":{\"months\":[0,6]},\"id\":\"1992\",\"type\":\"MonthsTicker\"},{\"attributes\":{},\"id\":\"1951\",\"type\":\"AllLabels\"},{\"attributes\":{\"days\":[1,15]},\"id\":\"1988\",\"type\":\"DaysTicker\"},{\"attributes\":{\"source\":{\"id\":\"1952\"}},\"id\":\"1959\",\"type\":\"CDSView\"},{\"attributes\":{\"months\":[0,2,4,6,8,10]},\"id\":\"1990\",\"type\":\"MonthsTicker\"},{\"attributes\":{\"line_alpha\":0.2,\"line_color\":\"#30a2da\",\"line_width\":2,\"x\":{\"field\":\"date\"},\"y\":{\"field\":\"kWh\"}},\"id\":\"1957\",\"type\":\"Line\"},{\"attributes\":{\"margin\":[5,5,5,5],\"name\":\"HSpacer01994\",\"sizing_mode\":\"stretch_width\"},\"id\":\"1994\",\"type\":\"Spacer\"},{\"attributes\":{\"callback\":null,\"formatters\":{\"@{date}\":\"datetime\"},\"renderers\":[{\"id\":\"1958\"},{\"id\":\"1967\"}],\"tags\":[\"hv_created\"],\"tooltips\":[[\"date\",\"@{date}{%F %T}\"],[\"kWh\",\"@{kWh}\"]]},\"id\":\"1914\",\"type\":\"HoverTool\"},{\"attributes\":{\"months\":[0,4,8]},\"id\":\"1991\",\"type\":\"MonthsTicker\"},{\"attributes\":{\"children\":[{\"id\":\"1911\"},{\"id\":\"1916\"},{\"id\":\"1994\"}],\"margin\":[0,0,0,0],\"name\":\"Row01989\",\"tags\":[\"embedded\"]},\"id\":\"1910\",\"type\":\"Row\"},{\"attributes\":{\"coordinates\":null,\"data_source\":{\"id\":\"1952\"},\"glyph\":{\"id\":\"1955\"},\"group\":null,\"hover_glyph\":null,\"muted_glyph\":{\"id\":\"1957\"},\"nonselection_glyph\":{\"id\":\"1956\"},\"selection_glyph\":{\"id\":\"1960\"},\"view\":{\"id\":\"1959\"}},\"id\":\"1958\",\"type\":\"GlyphRenderer\"},{\"attributes\":{\"end\":142.752,\"reset_end\":142.752,\"reset_start\":24.648000000000003,\"start\":24.648000000000003,\"tags\":[[[\"kWh\",\"kWh\",null]]]},\"id\":\"1913\",\"type\":\"Range1d\"},{\"attributes\":{},\"id\":\"1950\",\"type\":\"BasicTickFormatter\"},{\"attributes\":{\"line_color\":\"#30a2da\",\"line_width\":2,\"x\":{\"field\":\"date\"},\"y\":{\"field\":\"kWh\"}},\"id\":\"1960\",\"type\":\"Line\"},{\"attributes\":{\"line_color\":\"#30a2da\",\"line_width\":2,\"x\":{\"field\":\"date\"},\"y\":{\"field\":\"kWh\"}},\"id\":\"1955\",\"type\":\"Line\"},{\"attributes\":{\"below\":[{\"id\":\"1925\"}],\"center\":[{\"id\":\"1928\"},{\"id\":\"1932\"}],\"height\":300,\"left\":[{\"id\":\"1929\"}],\"margin\":[5,5,5,5],\"min_border_bottom\":10,\"min_border_left\":10,\"min_border_right\":10,\"min_border_top\":10,\"renderers\":[{\"id\":\"1958\"},{\"id\":\"1967\"}],\"sizing_mode\":\"fixed\",\"title\":{\"id\":\"1917\"},\"toolbar\":{\"id\":\"1939\"},\"width\":700,\"x_range\":{\"id\":\"1912\"},\"x_scale\":{\"id\":\"1921\"},\"y_range\":{\"id\":\"1913\"},\"y_scale\":{\"id\":\"1923\"}},\"id\":\"1916\",\"subtype\":\"Figure\",\"type\":\"Plot\"},{\"attributes\":{},\"id\":\"1979\",\"type\":\"UnionRenderers\"},{\"attributes\":{},\"id\":\"1921\",\"type\":\"LinearScale\"},{\"attributes\":{\"axis_label\":\"kWh\",\"coordinates\":null,\"formatter\":{\"id\":\"1950\"},\"group\":null,\"major_label_policy\":{\"id\":\"1951\"},\"ticker\":{\"id\":\"1930\"}},\"id\":\"1929\",\"type\":\"LinearAxis\"},{\"attributes\":{\"line_alpha\":0.2,\"line_color\":\"#fc4f30\",\"line_width\":2,\"x\":{\"field\":\"date\"},\"y\":{\"field\":\"kWh\"}},\"id\":\"1966\",\"type\":\"Line\"},{\"attributes\":{\"tools\":[{\"id\":\"1914\"},{\"id\":\"1933\"},{\"id\":\"1934\"},{\"id\":\"1935\"},{\"id\":\"1936\"},{\"id\":\"1937\"}]},\"id\":\"1939\",\"type\":\"Toolbar\"},{\"attributes\":{\"line_color\":\"#fc4f30\",\"line_width\":2,\"x\":{\"field\":\"date\"},\"y\":{\"field\":\"kWh\"}},\"id\":\"1964\",\"type\":\"Line\"},{\"attributes\":{\"coordinates\":null,\"group\":null,\"text\":\"Energy usage 2022\",\"text_color\":\"black\",\"text_font_size\":\"12pt\"},\"id\":\"1917\",\"type\":\"Title\"},{\"attributes\":{},\"id\":\"1953\",\"type\":\"Selection\"},{\"attributes\":{},\"id\":\"1934\",\"type\":\"PanTool\"},{\"attributes\":{},\"id\":\"1948\",\"type\":\"AllLabels\"},{\"attributes\":{\"axis_label\":\"date\",\"coordinates\":null,\"formatter\":{\"id\":\"1947\"},\"group\":null,\"major_label_policy\":{\"id\":\"1948\"},\"ticker\":{\"id\":\"1926\"}},\"id\":\"1925\",\"type\":\"DatetimeAxis\"},{\"attributes\":{\"line_alpha\":0.1,\"line_color\":\"#fc4f30\",\"line_width\":2,\"x\":{\"field\":\"date\"},\"y\":{\"field\":\"kWh\"}},\"id\":\"1965\",\"type\":\"Line\"},{\"attributes\":{},\"id\":\"1923\",\"type\":\"LinearScale\"},{\"attributes\":{\"num_minor_ticks\":5,\"tickers\":[{\"id\":\"1982\"},{\"id\":\"1983\"},{\"id\":\"1984\"},{\"id\":\"1985\"},{\"id\":\"1986\"},{\"id\":\"1987\"},{\"id\":\"1988\"},{\"id\":\"1989\"},{\"id\":\"1990\"},{\"id\":\"1991\"},{\"id\":\"1992\"},{\"id\":\"1993\"}]},\"id\":\"1926\",\"type\":\"DatetimeTicker\"},{\"attributes\":{},\"id\":\"1962\",\"type\":\"Selection\"},{\"attributes\":{\"axis\":{\"id\":\"1925\"},\"coordinates\":null,\"grid_line_color\":null,\"group\":null,\"ticker\":null},\"id\":\"1928\",\"type\":\"Grid\"},{\"attributes\":{\"source\":{\"id\":\"1961\"}},\"id\":\"1968\",\"type\":\"CDSView\"},{\"attributes\":{\"axis\":{\"id\":\"1929\"},\"coordinates\":null,\"dimension\":1,\"grid_line_color\":null,\"group\":null,\"ticker\":null},\"id\":\"1932\",\"type\":\"Grid\"},{\"attributes\":{\"coordinates\":null,\"data_source\":{\"id\":\"1961\"},\"glyph\":{\"id\":\"1964\"},\"group\":null,\"hover_glyph\":null,\"muted_glyph\":{\"id\":\"1966\"},\"nonselection_glyph\":{\"id\":\"1965\"},\"selection_glyph\":{\"id\":\"1969\"},\"view\":{\"id\":\"1968\"}},\"id\":\"1967\",\"type\":\"GlyphRenderer\"},{\"attributes\":{\"end\":1672444800000.0,\"reset_end\":1672444800000.0,\"reset_start\":1640995200000.0,\"start\":1640995200000.0,\"tags\":[[[\"date\",\"date\",null]]]},\"id\":\"1912\",\"type\":\"Range1d\"},{\"attributes\":{},\"id\":\"1930\",\"type\":\"BasicTicker\"},{\"attributes\":{\"data\":{\"date\":{\"__ndarray__\":\"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\",\"dtype\":\"float64\",\"order\":\"little\",\"shape\":[364]},\"kWh\":{\"__ndarray__\":\"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\",\"dtype\":\"float64\",\"order\":\"little\",\"shape\":[364]}},\"selected\":{\"id\":\"1962\"},\"selection_policy\":{\"id\":\"1979\"}},\"id\":\"1961\",\"type\":\"ColumnDataSource\"},{\"attributes\":{},\"id\":\"1935\",\"type\":\"WheelZoomTool\"},{\"attributes\":{\"mantissas\":[1,2,5],\"max_interval\":500.0,\"num_minor_ticks\":0},\"id\":\"1982\",\"type\":\"AdaptiveTicker\"},{\"attributes\":{\"line_color\":\"#fc4f30\",\"line_width\":2,\"x\":{\"field\":\"date\"},\"y\":{\"field\":\"kWh\"}},\"id\":\"1969\",\"type\":\"Line\"},{\"attributes\":{},\"id\":\"1933\",\"type\":\"SaveTool\"},{\"attributes\":{\"base\":60,\"mantissas\":[1,2,5,10,15,20,30],\"max_interval\":1800000.0,\"min_interval\":1000.0,\"num_minor_ticks\":0},\"id\":\"1983\",\"type\":\"AdaptiveTicker\"},{\"attributes\":{\"overlay\":{\"id\":\"1938\"}},\"id\":\"1936\",\"type\":\"BoxZoomTool\"},{\"attributes\":{\"base\":24,\"mantissas\":[1,2,4,6,8,12],\"max_interval\":43200000.0,\"min_interval\":3600000.0,\"num_minor_ticks\":0},\"id\":\"1984\",\"type\":\"AdaptiveTicker\"},{\"attributes\":{\"data\":{\"date\":{\"__ndarray__\":\"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\",\"dtype\":\"float64\",\"order\":\"little\",\"shape\":[364]},\"kWh\":{\"__ndarray__\":\"7FG4HoXrTkBmZmZmZnZQQMP1KFyPElBAuB6F61HoUkBxPQrXo4BQQB+F61G4blBApHA9CtfDUUAzMzMzM3NTQDMzMzMzs1BArkfhehTOUkCkcD0K19NWQKRwPQrXI1JAMzMzMzMzUEDXo3A9CpdNQAAAAAAAgFdArkfhehRuVEDXo3A9CldOQM3MzMzMfFBAZmZmZmbmUEDsUbgehctRQKRwPQrXs1ZAuB6F61FYVkA9CtejcJ1TQBWuR+F6lFJAH4XrUbi+UUBxPQrXo5BVQOxRuB6Fi1VAH4XrUbieUUCPwvUoXC9YQHsUrkfh2lpAMzMzMzPTVUDXo3A9CudUQOF6FK5HAVJAmpmZmZkZT0CF61G4HiVQQMP1KFyPslZAUrgehetRV0AfhetRuM5QQPYoXI/CRVJAUrgehevxUkCPwvUoXB9RQAAAAAAAIE9ASOF6FK4HTECPwvUoXM9OQI/C9ShcP1hAcT0K16PAV0B7FK5H4SpSQMP1KFyPQk1AZmZmZmaGTUCamZmZmRlVQLgehetReFRAhetRuB5lUUBmZmZmZmZMQFK4HoXrkUxAAAAAAABATkDD9Shcj6JRQDMzMzMzQ1NAAAAAAABgUUDD9Shcj/JQQK5H4XoUbk9AcT0K16PwTUD2KFyPwhVPQOxRuB6FK1NAMzMzMzOTUUDXo3A9CjdMQKRwPQrXQ0pAhetRuB7FTUDhehSuR3FQQJqZmZmZ2UxACtejcD2qTUAK16NwPbpRQK5H4XoUTlRAj8L1KFwvTkDXo3A9CjdLQArXo3A9SkxAzczMzMxsSkBmZmZmZqZNQHsUrkfhmkxAPQrXo3BdTUBmZmZmZqZKQDMzMzMzs0lAuB6F61HYS0CF61G4HgVJQD4K16NwnUdAmpmZmZm5R0ApXI/C9ahKQOxRuB6Fa1NAH4XrUbheUkAK16NwPQpNQNejcD0KV0hAzczMzMxsSUBcj8L1KHxJQK5H4XoUbktApHA9CtfDSkCkcD0K1yNKQClcj8L1WFBAH4XrUbjeTkBmZmZmZuZIQOxRuB6Fi0hArkfhehSOTUAK16NwPQpJQJqZmZmZGUhAPgrXo3A9SUAAAAAAAEBEQM3MzMzMLEdAcT0K16OwS0CPwvUoXG9KQMP1KFyPAktAexSuR+HaSUBI4XoUrgdLQHE9CtejkEdAMzMzMzOzR0CamZmZmVlJQOxRuB6Fy0pACtejcD2KSED2KFyPwlVHQDMzMzMz80hAzczMzMxsSUAAAAAAAEBNQOxRuB6FC1FAFK5H4Xo0WUApXI/C9ahMQPYoXI/CtU9ASOF6FK4nUEDhehSuRwFKQPYoXI/ClUhA4XoUrkfhSUCuR+F6FM5JQGZmZmZmRklAmpmZmZmZR0CF61G4HkVHQGZmZmZmhkhAhetRuB6lRkCkcD0K16NGQArXo3A9SkdACtejcD0KR0CPwvUoXM9KQOF6FK5H4UlA9ihcj8LVSED2KFyPwnVIQGZmZmZmRltArkfhehQ+VkDNzMzMzKxJQAAAAAAA4ElArkfhehTuR0AzMzMzM/NHQB+F61G43klASOF6FK63U0AK16NwPQpWQPYoXI/CtU5Aw/UoXI9iUkBI4XoUridJQI/C9ShcT0dA7FG4HoULSkC4HoXrUThIQB+F61G4fkhAw/UoXI8iSkCamZmZmZlHQOxRuB6Fm1BAzczMzMwMTkApXI/C9YhHQDMzMzMzc0VAKVyPwvWoRECkcD0K18NJQBWuR+F6FEhAw/UoXI+CSkBmZmZmZmZGQDMzMzMz00ZAexSuR+E6RkD2KFyPwvVKQJqZmZmZCVFAFa5H4Xo0RkDsUbgehetIQFK4HoXrMUVAMzMzMzNTR0DsUbgehVtRQFyPwvUofExAj8L1KFzvS0ApXI/C9UhLQI/C9ShcP1BA16NwPQo3S0AK16NwPepMQFyPwvUo/E1AUrgehetxTEBmZmZmZqZJQIXrUbgeBUpAKVyPwvUITECF61G4HuVKQML1KFyPQkxAuB6F61G4S0C4HoXrUbhSQLgehetR2ElAcT0K16MwTkDhehSuR0FPQPYoXI/CtUtASOF6FK6HSUDhehSuRyFKQPYoXI/C9UlAFK5H4Xo0S0BmZmZmZqZNQAAAAAAAoE5A16NwPQp3TEDNzMzMzKxMQFyPwvUo/E1AH4XrUbieUED2KFyPwsVRQK5H4XoUzk1AcT0K16OQTkA9CtejcD1LQDMzMzMzc0xAH4XrUbj+TkBcj8L1KCxZQJqZmZmZeUhAH4XrUbg+UUD2KFyPwiVRQD4K16NwzVBA9ihcj8LVT0D2KFyPwvVOQOF6FK5HoU9AFK5H4Xq0UkB7FK5H4bpRQAAAAAAAwFBAPQrXo3B9UUAzMzMzM7NSQEjhehSuB1hAj8L1KFxPVUAK16NwPWpSQD0K16Nw3U5ApHA9CtdjTUBxPQrXo8BRQB+F61G4Xk5A7FG4HoVLTUCamZmZmZlQQLgehetR+E1AFa5H4XqkUkCkcD0K10NRQMP1KFyPYlBAexSuR+H6SkC4HoXrUfhIQFyPwvUo/ElAUrgehesxUkCuR+F6FI5PQOF6FK5HQU1AuB6F61GYRkBcj8L1KJxDQOtRuB6Fi0hAuB6F61GYTkCuR+F6FK5IQJqZmZmZCVFAcT0K16MAUECkcD0K19NQQOF6FK5HsVdASOF6FK5XU0A9CtejcF1WQFK4HoXroVNAFK5H4XpkWUDNzMzMzBRgQHE9CtejQFNA9ihcj8JlUUCuR+F6FL5RQNejcD0Kt1RAzczMzMzsUUAK16NwPVpUQGZmZmZm5khAFK5H4Xr0Q0AUrkfhevREQIXrUbgeZUNAuB6F61HYRkAAAAAAACBGQM3MzMzMTEpAZmZmZmbmS0Bcj8L1KPxJQBWuR+F6VE1A9ihcj8K1SkCPwvUoXK9MQPYoXI/C9U9AcT0K16PQTUAfhetRuP5JQDMzMzMzs0VA4XoUrkfBTEAfhetRuL5KQNejcD0K90pAMzMzMzOzTEAK16NwPapLQFK4HoXrUUlAUrgehetxUkAfhetRuB5TQK5H4XoUzkxAZmZmZmZmTkApXI/C9ShNQAAAAAAAMFBA16NwPQq3TkCkcD0K10NPQJqZmZmZuUxAzczMzMxsTUDNzMzMzGxMQK5H4XoUbkhAKVyPwvWISEC4HoXrUfhKQOxRuB6FS1BAzczMzMwcUEAfhetRuO5QQM3MzMzMzE1AmpmZmZlZSkCF61G4HoVGQMP1KFyPAkhAFa5H4XoUSEDNzMzMzAxHQArXo3A9qkFA16NwPQo3QkDsUbgehQtHQOxRuB6FK0pApHA9CtfjSEDXo3A9CjdIQB+F61G4PkFA4XoUrkdBR0DXo3A9ChdHQOF6FK5HwUlAhetRuB4lS0DD9Shcj8JKQPYoXI/C9UtAexSuR+GaTkBI4XoUrhdQQI/C9Shcv1FArkfhehRuTEDNzMzMzCxLQClcj8L1aEtAexSuR+FaR0BmZmZmZuZIQB+F61G4vkpAUrgeheuxS0D2KFyPwjVNQB+F61G4/k9AcT0K16MAUkCamZmZmQlTQOF6FK5HgU5AH4XrUbieUUCuR+F6FO5QQLgehetR2E5AH4XrUbheTkBI4XoUrudJQK5H4XoUTlBAXI/C9ShcUUBSuB6F6wFRQHE9CtejIFdA7FG4HoXLVUBI4XoUrqdWQHsUrkfhClVA4XoUrkcBUkBcj8L1KMxUQFyPwvUovFVAmpmZmZkZWEBmZmZmZiZXQLgehetRuFZAuB6F61GoVEBmZmZmZgZXQIXrUbgenWBA16NwPQonX0A9CtejcF1cQK5H4XoUTlZA4XoUrkehU0CamZmZmYlUQArXo3A9qk9AKVyPwvXISUA=\",\"dtype\":\"float64\",\"order\":\"little\",\"shape\":[364]}},\"selected\":{\"id\":\"1953\"},\"selection_policy\":{\"id\":\"1977\"}},\"id\":\"1952\",\"type\":\"ColumnDataSource\"},{\"attributes\":{},\"id\":\"1937\",\"type\":\"ResetTool\"},{\"attributes\":{},\"id\":\"1947\",\"type\":\"DatetimeTickFormatter\"},{\"attributes\":{\"months\":[0,1,2,3,4,5,6,7,8,9,10,11]},\"id\":\"1989\",\"type\":\"MonthsTicker\"},{\"attributes\":{},\"id\":\"1993\",\"type\":\"YearsTicker\"},{\"attributes\":{\"bottom_units\":\"screen\",\"coordinates\":null,\"fill_alpha\":0.5,\"fill_color\":\"lightgrey\",\"group\":null,\"left_units\":\"screen\",\"level\":\"overlay\",\"line_alpha\":1.0,\"line_color\":\"black\",\"line_dash\":[4,4],\"line_width\":2,\"right_units\":\"screen\",\"syncable\":false,\"top_units\":\"screen\"},\"id\":\"1938\",\"type\":\"BoxAnnotation\"},{\"attributes\":{\"days\":[1,2,3,4,5,6,7,8,9,10,11,12,13,14,15,16,17,18,19,20,21,22,23,24,25,26,27,28,29,30,31]},\"id\":\"1985\",\"type\":\"DaysTicker\"},{\"attributes\":{\"days\":[1,4,7,10,13,16,19,22,25,28]},\"id\":\"1986\",\"type\":\"DaysTicker\"}],\"root_ids\":[\"1910\"]},\"title\":\"Bokeh Application\",\"version\":\"2.4.3\"}};\n",
       "    var render_items = [{\"docid\":\"95c98a60-3dac-4a6e-a08c-1b6674888ab2\",\"root_ids\":[\"1910\"],\"roots\":{\"1910\":\"819365de-7250-42a7-9ed6-1ee14e2f0f40\"}}];\n",
       "    root.Bokeh.embed.embed_items_notebook(docs_json, render_items);\n",
       "    for (const render_item of render_items) {\n",
       "      for (const root_id of render_item.root_ids) {\n",
       "\tconst id_el = document.getElementById(root_id)\n",
       "\tif (id_el.children.length && (id_el.children[0].className === 'bk-root')) {\n",
       "\t  const root_el = id_el.children[0]\n",
       "\t  root_el.id = root_el.id + '-rendered'\n",
       "\t}\n",
       "      }\n",
       "    }\n",
       "  }\n",
       "  if (root.Bokeh !== undefined && root.Bokeh.Panel !== undefined) {\n",
       "    embed_document(root);\n",
       "  } else {\n",
       "    var attempts = 0;\n",
       "    var timer = setInterval(function(root) {\n",
       "      if (root.Bokeh !== undefined && root.Bokeh.Panel !== undefined) {\n",
       "        clearInterval(timer);\n",
       "        embed_document(root);\n",
       "      } else if (document.readyState == \"complete\") {\n",
       "        attempts++;\n",
       "        if (attempts > 200) {\n",
       "          clearInterval(timer);\n",
       "          console.log(\"Bokeh: ERROR: Unable to run BokehJS code because BokehJS library is missing\");\n",
       "        }\n",
       "      }\n",
       "    }, 25, root)\n",
       "  }\n",
       "})(window);</script>"
      ],
      "text/plain": [
       ":Overlay\n",
       "   .Curve.I  :Curve   [date]   (kWh)\n",
       "   .Curve.II :Curve   [date]   (kWh)"
      ]
     },
     "execution_count": 30,
     "metadata": {
      "application/vnd.holoviews_exec.v0+json": {
       "id": "1910"
      }
     },
     "output_type": "execute_result"
    }
   ],
   "source": [
    "# Set the plot of Tesla's daily prices as the main plot in the overlay\n",
    "energy_line_plot = energy_line.hvplot.line(title=\"Energy usage 2022\")\n",
    "\n",
    "# Plot the 180-day rolling metric as an overlay on the plot\n",
    "seven_day_average = energy_line.rolling(window=7).mean()\n",
    "seven_day_av_plot = seven_day_average.hvplot.line()\n",
    "\n",
    "# Create the legend for the figure\n",
    "energy_line_plot * seven_day_av_plot"
   ]
  },
  {
   "cell_type": "code",
   "execution_count": null,
   "id": "d6bb9244-b026-4ffb-a5fa-594a68621ac4",
   "metadata": {},
   "outputs": [],
   "source": []
  }
 ],
 "metadata": {
  "kernelspec": {
   "display_name": "Python 3 (ipykernel)",
   "language": "python",
   "name": "python3"
  },
  "language_info": {
   "codemirror_mode": {
    "name": "ipython",
    "version": 3
   },
   "file_extension": ".py",
   "mimetype": "text/x-python",
   "name": "python",
   "nbconvert_exporter": "python",
   "pygments_lexer": "ipython3",
   "version": "3.9.15"
  }
 },
 "nbformat": 4,
 "nbformat_minor": 5
}
