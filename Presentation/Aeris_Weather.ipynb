{
 "cells": [
  {
   "cell_type": "code",
   "execution_count": 3,
   "id": "0720b3f0-7511-4ce0-af4a-00d3183f19d2",
   "metadata": {},
   "outputs": [],
   "source": [
    "# Import required libraries\n",
    "from datetime import datetime as dt\n",
    "import json\n",
    "import os\n",
    "from pathlib import Path\n",
    "from typing import List\n",
    "from dotenv import load_dotenv\n",
    "import pandas as pd\n",
    "from pandas import DatetimeIndex\n",
    "from requests import request\n",
    "\n",
    "# sample url for historical request\n",
    "# https://api.aerisapi.com/conditions/80210?from=2016-05-04%2000:00:00&to=2016-05-04%2023:59:59&limit=24&client_id=[CLIENT_ID]&client_secret=[CLIENT_SECRET]\n"
   ]
  },
  {
   "cell_type": "code",
   "execution_count": 4,
   "id": "0496a4b4-d972-476b-84a5-a9d999bea63c",
   "metadata": {},
   "outputs": [
    {
     "data": {
      "text/plain": [
       "True"
      ]
     },
     "execution_count": 4,
     "metadata": {},
     "output_type": "execute_result"
    }
   ],
   "source": [
    "# Load .env environment variables\n",
    "load_dotenv()"
   ]
  },
  {
   "cell_type": "code",
   "execution_count": 8,
   "id": "2ac53674-1efb-42f7-a1d6-dcf7d252ccb6",
   "metadata": {},
   "outputs": [
    {
     "name": "stdout",
     "output_type": "stream",
     "text": [
      "<class 'str'>\n"
     ]
    }
   ],
   "source": [
    "# import API keys\n",
    "client_id = os.getenv(\"AERIS_CLIENT_ID\")\n",
    "client_secret = os.getenv(\"AERIS_CLIENT_SECRET\")\n",
    "\n",
    "# print type of API key\n",
    "print(type(client_id))\n",
    "\n",
    "# define which location you'd like to receive data from (you can insert multiple locations with (,) seperator)\n",
    "location_list = [\n",
    "    \"new+york,ny\"\n",
    "]\n",
    "\n",
    "# Create empty request list\n",
    "request_fields = []\n",
    "\n",
    "# edit section below to specify weather attributes for your use case or remove it to use all returned values\n",
    "request_fields = [\n",
    "    'periods.dateTimeISO',\n",
    "    'place.name',\n",
    "    'place.country',\n",
    "    'periods.tempF',\n",
    "    'periods.feelslikeF',\n",
    "    'periods.humidity',\n",
    "]"
   ]
  },
  {
   "cell_type": "code",
   "execution_count": 37,
   "id": "11a09a1c-dd84-4619-bd7d-278f28717169",
   "metadata": {},
   "outputs": [
    {
     "name": "stdout",
     "output_type": "stream",
     "text": [
      "DatetimeIndex(['2022-06-01', '2022-06-02'], dtype='datetime64[ns]', freq='D')\n"
     ]
    }
   ],
   "source": [
    "#define start date of date range and how many periods back you would like to receive data from. \n",
    "dt_list = pd.date_range(start='2022-06-01', periods=2)\n",
    "\n",
    "# print the data range list. \n",
    "print(dt_list)"
   ]
  },
  {
   "cell_type": "code",
   "execution_count": 38,
   "id": "7199fcc0-bc08-49f1-be58-2ff2ef298a37",
   "metadata": {},
   "outputs": [],
   "source": [
    "def aeris_api_dataframe(location: str, custom_fields: List[str] = None, from_date: dt = None) -> pd.DataFrame:\n",
    "    formatted_fields = []\n",
    "\n",
    "    if custom_fields is not None:\n",
    "        formatted_fields = ','.join(custom_fields)\n",
    "\n",
    "    print(f\"retrieving data for {location} on {from_date.strftime('%Y-%m-%d')}...\")\n",
    "    res = request(\n",
    "        method=\"GET\",\n",
    "        url=f\"https://api.aerisapi.com/conditions/{location}\",\n",
    "        params={\n",
    "            \"client_id\": client_id,\n",
    "            \"client_secret\": client_secret,\n",
    "            \"fields\": formatted_fields,\n",
    "            #\"from\": from_date, (orignal code)\n",
    "            \"from\": from_date.strftime('%Y-%m-%d 12:59:59'),\n",
    "            #\"to\": from_date.strftime('%Y-%m-%d 23:59:59'), (original code)\n",
    "            \"to\": from_date.strftime('%Y-%m-%d 13:59:59'),\n",
    "            #Amount of measurements per day (niels)\n",
    "            \"limit\": 1\n",
    "        }\n",
    "    )\n",
    "    \n",
    "    if res.status_code != 200:\n",
    "        raise Exception(f\"status code was not 200: {res.status_code}\")\n",
    "          \n",
    "    api_response_body = json.loads(res.text)\n",
    "\n",
    "    try:\n",
    "        df_pre_period = pd.json_normalize(api_response_body['response'][0]).drop(\"periods\", axis=1)\n",
    "        df_periods = pd.json_normalize(api_response_body['response'][0], \"periods\", record_prefix=\"periods.\")\n",
    "        return df_pre_period.join(df_periods, how=\"cross\")\n",
    "    except IndexError:\n",
    "        print(f\"API Response did not contain periods. Verify request parameters are correct.\\n\\nRequest:\\n{res.url}\\n\\nResponse:\\n{api_response_body}\")"
   ]
  },
  {
   "cell_type": "code",
   "execution_count": 39,
   "id": "0ed80122-0ca3-4137-9ae9-5a405b43fe57",
   "metadata": {},
   "outputs": [],
   "source": [
    "# Set location where to place the data\n",
    "output_dir = Path('.//Resources/')\n",
    "# create location if it doesn't exist\n",
    "output_dir.mkdir(exist_ok=True)"
   ]
  },
  {
   "cell_type": "code",
   "execution_count": 57,
   "id": "acf58bbd-5fd9-4122-b641-c64e4f1bdf8f",
   "metadata": {},
   "outputs": [
    {
     "name": "stdout",
     "output_type": "stream",
     "text": [
      "new+york,ny 2022-06-01 00:00:00\n",
      "retrieving data for new+york,ny on 2022-06-01...\n",
      "  place.name place.country        periods.dateTimeISO  periods.tempF  \\\n",
      "0   new york            us  2022-06-01T12:00:00-04:00          71.29   \n",
      "\n",
      "   periods.feelslikeF  periods.humidity  \n",
      "0               71.29                62  \n",
      "new+york,ny 2022-06-02 00:00:00\n",
      "retrieving data for new+york,ny on 2022-06-02...\n",
      "  place.name place.country        periods.dateTimeISO  periods.tempF  \\\n",
      "0   new york            us  2022-06-01T12:00:00-04:00          71.29   \n",
      "1   new york            us  2022-06-02T12:00:00-04:00          73.87   \n",
      "\n",
      "   periods.feelslikeF  periods.humidity  \n",
      "0               71.29                62  \n",
      "1               73.87                75  \n",
      "csv for new+york,ny saved as Resources\\weather_new+york,ny_download.csv\n",
      "all csv's complete!\n"
     ]
    }
   ],
   "source": [
    "# get data from AERIS as per datelist\n",
    "def loop_dates(dt_list: DatetimeIndex):\n",
    "    sorted_dates = dt_list.sort_values()\n",
    "    \n",
    "    # get locations from location_list\n",
    "    for loc in location_list:\n",
    "        \n",
    "        # create file name\n",
    "        filename = f\"weather_{loc}_download.csv\"\n",
    "        \n",
    "        # create empty list\n",
    "        all_dates = []\n",
    "        \n",
    "        # go through all dates in sorted_dates\n",
    "        for date in sorted_dates:\n",
    "            \n",
    "            # print location and date that will be extracted from api data\n",
    "            # print(loc,date)\n",
    "            \n",
    "            # run aeris_api_dataframe with location, request_files and dates\n",
    "            all_dates.append(aeris_api_dataframe(location=loc, custom_fields=request_fields, from_date=date))\n",
    "            # combine all data in all_data_df dataframe\n",
    "            all_days_df = pd.concat(all_dates, ignore_index=True)\n",
    "            \n",
    "            # print all_days_df\n",
    "            #print(all_days_df)\n",
    "        \n",
    "        #save all_days_df to a csv file using output_dir and filename\n",
    "        all_days_df.to_csv(output_dir / filename, encoding=\"utf-8\")\n",
    "        \n",
    "        # print where file for certain location is saved as a csv\n",
    "        print(f\"csv for {loc} saved as {output_dir / filename}\")\n",
    "    \n",
    "    # print that process has finished. \n",
    "    print(\"all csv's complete!\")\n",
    "\n",
    "loop_dates(dt_list)"
   ]
  }
 ],
 "metadata": {
  "kernelspec": {
   "display_name": "Python 3 (ipykernel)",
   "language": "python",
   "name": "python3"
  },
  "language_info": {
   "codemirror_mode": {
    "name": "ipython",
    "version": 3
   },
   "file_extension": ".py",
   "mimetype": "text/x-python",
   "name": "python",
   "nbconvert_exporter": "python",
   "pygments_lexer": "ipython3",
   "version": "3.9.15"
  }
 },
 "nbformat": 4,
 "nbformat_minor": 5
}
